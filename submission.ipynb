{
 "cells": [
  {
   "cell_type": "code",
   "execution_count": null,
   "metadata": {},
   "outputs": [],
   "source": [
    "import os\n",
    "import torch\n",
    "import torch.nn as nn\n",
    "import torch.optim as optim\n",
    "from torch.utils.data import DataLoader, TensorDataset\n",
    "import numpy as np\n",
    "import pandas as pd\n",
    "import matplotlib.pyplot as plt\n",
    "from sklearn.model_selection import KFold\n",
    "\n",
    "from evaluation import evaluate_matrices\n",
    "from MatrixVectorizer import MatrixVectorizer\n",
    "\n",
    "import sys\n",
    "import os\n",
    "# Add stp_gsr to the path\n",
    "sys.path.append('stp_gsr')\n",
    "from stp_gsr.src.models.stp_gsr import STPGSR\n",
    "import hydra\n"
   ]
  },
  {
   "cell_type": "code",
   "execution_count": 24,
   "metadata": {},
   "outputs": [
    {
     "name": "stdout",
     "output_type": "stream",
     "text": [
      "torch.Size([112, 35778])\n"
     ]
    }
   ],
   "source": [
    "class DictToObject:\n",
    "    def __init__(self, dictionary):\n",
    "        for key, value in dictionary.items():\n",
    "            if isinstance(value, dict):\n",
    "                setattr(self, key, DictToObject(value))\n",
    "            else:\n",
    "                setattr(self, key, value)\n",
    "\n",
    "# Define the dictionary\n",
    "config_dict = {\n",
    "    \"model\": {\n",
    "        \"name\": \"stp_gsr\",\n",
    "        \"target_edge_initializer\": {\n",
    "            \"num_heads\": 4,\n",
    "            \"edge_dim\": 1,\n",
    "            \"hidden_dim\": 256,\n",
    "            \"num_layers\": 3,\n",
    "            \"dropout\": 0.2,\n",
    "            \"beta\": False\n",
    "        },\n",
    "        \"dual_learner\": {\n",
    "            \"in_dim\": 1,\n",
    "            \"out_dim\": 1,\n",
    "            \"num_heads\": 1,\n",
    "            \"dropout\": 0.2,\n",
    "            \"beta\": False\n",
    "        }\n",
    "    },\n",
    "    \"dataset\": {\n",
    "        \"name\": \"custom\",\n",
    "        \"n_samples\": 167,\n",
    "        \"n_source_nodes\": 160,\n",
    "        \"n_target_nodes\": 268,\n",
    "        \"node_feat_init\": \"adj\",\n",
    "        \"node_feat_dim\": 160  # Assuming this is derived from n_source_nodes\n",
    "    },\n",
    "    \"experiment\": {\n",
    "        \"defaults\": [\n",
    "            \"_self_\",\n",
    "            {\"dataset\": \"sbm\"},\n",
    "            {\"model\": \"stp_gsr\"}\n",
    "        ],\n",
    "        \"n_epochs\": 60,\n",
    "        \"batch_size\": 16,\n",
    "        \"lr\": 0.001,\n",
    "        \"log_val_loss\": False,\n",
    "        \"base_dir\": \"results\",\n",
    "        \"run_name\": \"run1\",\n",
    "        \"kfold\": {\n",
    "            \"n_splits\": 3,\n",
    "            \"shuffle\": True,\n",
    "            \"random_state\": 42\n",
    "        }\n",
    "    }\n",
    "}"
   ]
  },
  {
   "cell_type": "code",
   "execution_count": 25,
   "metadata": {},
   "outputs": [
    {
     "name": "stdout",
     "output_type": "stream",
     "text": [
      "stp_gsr\n",
      "4\n",
      "167\n",
      "60\n",
      "3\n"
     ]
    }
   ],
   "source": [
    "config = DictToObject(config_dict)\n",
    "\n",
    "# Accessing attributes\n",
    "print(config.model.name)  # Output: stp_gsr\n",
    "print(config.model.target_edge_initializer.num_heads)  # Output: 4\n",
    "print(config.dataset.n_samples)  # Output: 167\n",
    "print(config.experiment.n_epochs)  # Output: 60\n",
    "print(config.experiment.kfold.n_splits) "
   ]
  },
  {
   "cell_type": "code",
   "execution_count": 30,
   "metadata": {},
   "outputs": [
    {
     "ename": "ImportError",
     "evalue": "cannot import name 'load_test' from 'stp_gsr.src.dataset' (/vol/bitbucket/zz1224/dgl/dgl-project/stp_gsr/src/dataset.py)",
     "output_type": "error",
     "traceback": [
      "\u001b[0;31m---------------------------------------------------------------------------\u001b[0m",
      "\u001b[0;31mImportError\u001b[0m                               Traceback (most recent call last)",
      "Cell \u001b[0;32mIn[30], line 1\u001b[0m\n\u001b[0;32m----> 1\u001b[0m \u001b[38;5;28;01mfrom\u001b[39;00m\u001b[38;5;250m \u001b[39m\u001b[38;5;21;01mstp_gsr\u001b[39;00m\u001b[38;5;21;01m.\u001b[39;00m\u001b[38;5;21;01msrc\u001b[39;00m\u001b[38;5;21;01m.\u001b[39;00m\u001b[38;5;21;01mdataset\u001b[39;00m\u001b[38;5;250m \u001b[39m\u001b[38;5;28;01mimport\u001b[39;00m load_test\n\u001b[1;32m      2\u001b[0m \u001b[38;5;28;01mfrom\u001b[39;00m\u001b[38;5;250m \u001b[39m\u001b[38;5;21;01mstp_gsr\u001b[39;00m\u001b[38;5;21;01m.\u001b[39;00m\u001b[38;5;21;01msrc\u001b[39;00m\u001b[38;5;21;01m.\u001b[39;00m\u001b[38;5;21;01mtrain\u001b[39;00m\u001b[38;5;250m \u001b[39m\u001b[38;5;28;01mimport\u001b[39;00m \u001b[38;5;28meval\u001b[39m\n",
      "\u001b[0;31mImportError\u001b[0m: cannot import name 'load_test' from 'stp_gsr.src.dataset' (/vol/bitbucket/zz1224/dgl/dgl-project/stp_gsr/src/dataset.py)"
     ]
    }
   ],
   "source": [
    "from stp_gsr.src.dataset import load_test\n",
    "from stp_gsr.src.train import eval"
   ]
  },
  {
   "cell_type": "code",
   "execution_count": null,
   "metadata": {},
   "outputs": [
    {
     "name": "stdout",
     "output_type": "stream",
     "text": [
      "TargetEdgeInitializer(\n",
      "  (convs): ModuleList(\n",
      "    (0): TransformerConv(160, 64, heads=4)\n",
      "    (1): TransformerConv(256, 64, heads=4)\n",
      "    (2): TransformerConv(256, 67, heads=4)\n",
      "  )\n",
      "  (bns): ModuleList(\n",
      "    (0-1): 2 x GraphNorm(256)\n",
      "    (2): GraphNorm(268)\n",
      "  )\n",
      "  (residual_proj): Sequential(\n",
      "    (0): Linear(in_features=160, out_features=256, bias=True)\n",
      "    (1): ReLU()\n",
      "    (2): Linear(in_features=256, out_features=268, bias=True)\n",
      "  )\n",
      ")\n",
      "--------------------------------------------------\n",
      "DualGraphLearner(\n",
      "  (conv1): TransformerConv(1, 1, heads=1)\n",
      "  (bn1): GraphNorm(1)\n",
      ")\n"
     ]
    },
    {
     "ename": "TypeError",
     "evalue": "STPGSR.forward() missing 1 required positional argument: 'target_mat'",
     "output_type": "error",
     "traceback": [
      "\u001b[0;31m---------------------------------------------------------------------------\u001b[0m",
      "\u001b[0;31mTypeError\u001b[0m                                 Traceback (most recent call last)",
      "Cell \u001b[0;32mIn[28], line 18\u001b[0m\n\u001b[1;32m     15\u001b[0m test_data \u001b[38;5;241m=\u001b[39m torch\u001b[38;5;241m.\u001b[39mtensor(test_data\u001b[38;5;241m.\u001b[39mvalues, dtype\u001b[38;5;241m=\u001b[39mtorch\u001b[38;5;241m.\u001b[39mfloat32)\n\u001b[1;32m     17\u001b[0m \u001b[38;5;66;03m# Predict the test data\u001b[39;00m\n\u001b[0;32m---> 18\u001b[0m y_pred \u001b[38;5;241m=\u001b[39m \u001b[43mmodel\u001b[49m\u001b[43m(\u001b[49m\u001b[43mtest_data\u001b[49m\u001b[43m)\u001b[49m\n\u001b[1;32m     19\u001b[0m \u001b[38;5;28mprint\u001b[39m(y_pred\u001b[38;5;241m.\u001b[39mshape)\n",
      "File \u001b[0;32m/vol/bitbucket/zz1224/imaging/imaging-env/lib/python3.12/site-packages/torch/nn/modules/module.py:1739\u001b[0m, in \u001b[0;36mModule._wrapped_call_impl\u001b[0;34m(self, *args, **kwargs)\u001b[0m\n\u001b[1;32m   1737\u001b[0m     \u001b[38;5;28;01mreturn\u001b[39;00m \u001b[38;5;28mself\u001b[39m\u001b[38;5;241m.\u001b[39m_compiled_call_impl(\u001b[38;5;241m*\u001b[39margs, \u001b[38;5;241m*\u001b[39m\u001b[38;5;241m*\u001b[39mkwargs)  \u001b[38;5;66;03m# type: ignore[misc]\u001b[39;00m\n\u001b[1;32m   1738\u001b[0m \u001b[38;5;28;01melse\u001b[39;00m:\n\u001b[0;32m-> 1739\u001b[0m     \u001b[38;5;28;01mreturn\u001b[39;00m \u001b[38;5;28;43mself\u001b[39;49m\u001b[38;5;241;43m.\u001b[39;49m\u001b[43m_call_impl\u001b[49m\u001b[43m(\u001b[49m\u001b[38;5;241;43m*\u001b[39;49m\u001b[43margs\u001b[49m\u001b[43m,\u001b[49m\u001b[43m \u001b[49m\u001b[38;5;241;43m*\u001b[39;49m\u001b[38;5;241;43m*\u001b[39;49m\u001b[43mkwargs\u001b[49m\u001b[43m)\u001b[49m\n",
      "File \u001b[0;32m/vol/bitbucket/zz1224/imaging/imaging-env/lib/python3.12/site-packages/torch/nn/modules/module.py:1750\u001b[0m, in \u001b[0;36mModule._call_impl\u001b[0;34m(self, *args, **kwargs)\u001b[0m\n\u001b[1;32m   1745\u001b[0m \u001b[38;5;66;03m# If we don't have any hooks, we want to skip the rest of the logic in\u001b[39;00m\n\u001b[1;32m   1746\u001b[0m \u001b[38;5;66;03m# this function, and just call forward.\u001b[39;00m\n\u001b[1;32m   1747\u001b[0m \u001b[38;5;28;01mif\u001b[39;00m \u001b[38;5;129;01mnot\u001b[39;00m (\u001b[38;5;28mself\u001b[39m\u001b[38;5;241m.\u001b[39m_backward_hooks \u001b[38;5;129;01mor\u001b[39;00m \u001b[38;5;28mself\u001b[39m\u001b[38;5;241m.\u001b[39m_backward_pre_hooks \u001b[38;5;129;01mor\u001b[39;00m \u001b[38;5;28mself\u001b[39m\u001b[38;5;241m.\u001b[39m_forward_hooks \u001b[38;5;129;01mor\u001b[39;00m \u001b[38;5;28mself\u001b[39m\u001b[38;5;241m.\u001b[39m_forward_pre_hooks\n\u001b[1;32m   1748\u001b[0m         \u001b[38;5;129;01mor\u001b[39;00m _global_backward_pre_hooks \u001b[38;5;129;01mor\u001b[39;00m _global_backward_hooks\n\u001b[1;32m   1749\u001b[0m         \u001b[38;5;129;01mor\u001b[39;00m _global_forward_hooks \u001b[38;5;129;01mor\u001b[39;00m _global_forward_pre_hooks):\n\u001b[0;32m-> 1750\u001b[0m     \u001b[38;5;28;01mreturn\u001b[39;00m \u001b[43mforward_call\u001b[49m\u001b[43m(\u001b[49m\u001b[38;5;241;43m*\u001b[39;49m\u001b[43margs\u001b[49m\u001b[43m,\u001b[49m\u001b[43m \u001b[49m\u001b[38;5;241;43m*\u001b[39;49m\u001b[38;5;241;43m*\u001b[39;49m\u001b[43mkwargs\u001b[49m\u001b[43m)\u001b[49m\n\u001b[1;32m   1752\u001b[0m result \u001b[38;5;241m=\u001b[39m \u001b[38;5;28;01mNone\u001b[39;00m\n\u001b[1;32m   1753\u001b[0m called_always_called_hooks \u001b[38;5;241m=\u001b[39m \u001b[38;5;28mset\u001b[39m()\n",
      "\u001b[0;31mTypeError\u001b[0m: STPGSR.forward() missing 1 required positional argument: 'target_mat'"
     ]
    }
   ],
   "source": [
    "# Load the test data and the model, and evaluate the model on the test data.\n",
    "sys.path.append('stp_gsr')\n",
    "LR_TEST_DATA_FILE_NAME = 'data/lr_test.csv'\n",
    "MODEL_FILE_NAME = 'stp_gsr/results/stp_gsr_modified/final/model.pth'\n",
    "\n",
    "# Load the test data\n",
    "# test_data = pd.read_csv(LR_TEST_DATA_FILE_NAME)\n",
    "\n",
    "# Load the model\n",
    "model = STPGSR(config) \n",
    "model.load_state_dict(torch.load(MODEL_FILE_NAME))\n",
    "model.eval()\n",
    "\n",
    "# Change test data to torch tensor\n",
    "# test_data = torch.tensor(test_data.values, dtype=torch.float32)\n",
    "\n",
    "test_data = load_test(config)\n",
    "\n",
    "# Predict the test data\n",
    "y_pred = model()\n",
    "print(y_pred.shape)\n",
    "\n"
   ]
  },
  {
   "cell_type": "code",
   "execution_count": 12,
   "metadata": {},
   "outputs": [
    {
     "name": "stdout",
     "output_type": "stream",
     "text": [
      "(4007136,)\n"
     ]
    }
   ],
   "source": [
    "# flatten\n",
    "y_pred = y_pred.detach().numpy()\n",
    "y_pred = y_pred.flatten()\n",
    "print(y_pred.shape)"
   ]
  },
  {
   "cell_type": "code",
   "execution_count": 13,
   "metadata": {},
   "outputs": [
    {
     "name": "stdout",
     "output_type": "stream",
     "text": [
      "Prediction saved to prediction.csv\n"
     ]
    }
   ],
   "source": [
    "# Convert tensor to csv\n",
    "df = pd.DataFrame({\n",
    "    'ID': np.arange(1, len(y_pred)+1),\n",
    "    'Predicted': y_pred\n",
    "})\n",
    "\n",
    "df.to_csv('prediction.csv', index=False)\n",
    "print('Prediction saved to prediction.csv')"
   ]
  },
  {
   "cell_type": "code",
   "execution_count": null,
   "metadata": {},
   "outputs": [],
   "source": []
  }
 ],
 "metadata": {
  "kernelspec": {
   "display_name": "dgl-cw1",
   "language": "python",
   "name": "python3"
  },
  "language_info": {
   "codemirror_mode": {
    "name": "ipython",
    "version": 3
   },
   "file_extension": ".py",
   "mimetype": "text/x-python",
   "name": "python",
   "nbconvert_exporter": "python",
   "pygments_lexer": "ipython3",
   "version": "3.13.1"
  }
 },
 "nbformat": 4,
 "nbformat_minor": 2
}
