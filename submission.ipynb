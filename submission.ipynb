{
 "cells": [
  {
   "cell_type": "code",
   "execution_count": 9,
   "metadata": {},
   "outputs": [],
   "source": [
    "import os\n",
    "import torch\n",
    "import torch.nn as nn\n",
    "import torch.optim as optim\n",
    "from torch.utils.data import DataLoader, TensorDataset\n",
    "import numpy as np\n",
    "import pandas as pd\n",
    "import matplotlib.pyplot as plt\n",
    "from sklearn.model_selection import KFold\n",
    "\n",
    "from evaluation import evaluate_matrices\n",
    "from MatrixVectorizer import MatrixVectorizer\n",
    "from mlp_baseline import NaiveMLP"
   ]
  },
  {
   "cell_type": "code",
   "execution_count": 11,
   "metadata": {},
   "outputs": [
    {
     "name": "stdout",
     "output_type": "stream",
     "text": [
      "torch.Size([112, 35778])\n"
     ]
    }
   ],
   "source": [
    "# Load the test data and the model, and evaluate the model on the test data.\n",
    "LR_TEST_DATA_FILE_NAME = 'data/lr_test.csv'\n",
    "MODEL_FILE_NAME = 'model.pth'\n",
    "\n",
    "# Load the test data\n",
    "test_data = pd.read_csv(LR_TEST_DATA_FILE_NAME)\n",
    "\n",
    "# Load the model\n",
    "model = NaiveMLP(\n",
    "        input_dim=12720,\n",
    "        hidden_dims=[4096, 2048, 1024, 512],\n",
    "        output_dim=35778\n",
    "    )\n",
    "model.load_state_dict(torch.load(MODEL_FILE_NAME))\n",
    "model.eval()\n",
    "\n",
    "# Change test data to torch tensor\n",
    "test_data = torch.tensor(test_data.values, dtype=torch.float32)\n",
    "\n",
    "# Predict the test data\n",
    "y_pred = model(test_data)\n",
    "print(y_pred.shape)\n",
    "\n"
   ]
  },
  {
   "cell_type": "code",
   "execution_count": 12,
   "metadata": {},
   "outputs": [
    {
     "name": "stdout",
     "output_type": "stream",
     "text": [
      "(4007136,)\n"
     ]
    }
   ],
   "source": [
    "# flatten\n",
    "y_pred = y_pred.detach().numpy()\n",
    "y_pred = y_pred.flatten()\n",
    "print(y_pred.shape)"
   ]
  },
  {
   "cell_type": "code",
   "execution_count": 13,
   "metadata": {},
   "outputs": [
    {
     "name": "stdout",
     "output_type": "stream",
     "text": [
      "Prediction saved to prediction.csv\n"
     ]
    }
   ],
   "source": [
    "# Convert tensor to csv\n",
    "df = pd.DataFrame({\n",
    "    'ID': np.arange(1, len(y_pred)+1),\n",
    "    'Predicted': y_pred\n",
    "})\n",
    "\n",
    "df.to_csv('prediction.csv', index=False)\n",
    "print('Prediction saved to prediction.csv')"
   ]
  },
  {
   "cell_type": "code",
   "execution_count": null,
   "metadata": {},
   "outputs": [],
   "source": []
  }
 ],
 "metadata": {
  "kernelspec": {
   "display_name": "dgl-cw1",
   "language": "python",
   "name": "python3"
  },
  "language_info": {
   "codemirror_mode": {
    "name": "ipython",
    "version": 3
   },
   "file_extension": ".py",
   "mimetype": "text/x-python",
   "name": "python",
   "nbconvert_exporter": "python",
   "pygments_lexer": "ipython3",
   "version": "3.13.1"
  }
 },
 "nbformat": 4,
 "nbformat_minor": 2
}
