{
 "cells": [
  {
   "cell_type": "code",
   "execution_count": 17,
   "metadata": {},
   "outputs": [],
   "source": [
    "import sys\n",
    "sys.path.append('./stp-gsr')  # Add the directory to Python path\n",
    "\n",
    "from src.models.stp_gsr import STPGSR\n",
    "from src.dual_graph_utils import revert_dual\n",
    "from src.dataset import load_dataset\n",
    "from MatrixVectorizer import MatrixVectorizer\n",
    "\n",
    "import os\n",
    "import torch\n",
    "import torch.nn as nn\n",
    "import torch.optim as optim\n",
    "from torch.utils.data import DataLoader, TensorDataset\n",
    "import numpy as np\n",
    "import pandas as pd\n",
    "import matplotlib.pyplot as plt\n",
    "from sklearn.model_selection import KFold\n",
    "\n",
    "from evaluation import evaluate_matrices\n",
    "from MatrixVectorizer import MatrixVectorizer\n",
    "from mlp_baseline import NaiveMLP\n",
    "\n",
    "import yaml\n",
    "from omegaconf import OmegaConf\n",
    "\n",
    "config = {\n",
    "    'defaults': ['_self_', 'dataset: custom', 'model: stp_gsr'],\n",
    "    \n",
    "    'dataset': {\n",
    "        'name': 'custom',\n",
    "        'n_samples': 167,\n",
    "        'n_source_nodes': 160,\n",
    "        'n_target_nodes': 268,\n",
    "        'node_feat_init': 'adj',\n",
    "        'node_feat_dim': 160  # same as n_source_nodes\n",
    "    },\n",
    "    \n",
    "    'model': {\n",
    "        'name': 'stp_gsr',\n",
    "        'target_edge_initializer': {\n",
    "            'num_heads': 4,\n",
    "            'edge_dim': 1,\n",
    "            'dropout': 0.2,\n",
    "            'beta': False\n",
    "        },\n",
    "        'dual_learner': {\n",
    "            'in_dim': 1,\n",
    "            'out_dim': 1,\n",
    "            'num_heads': 1,\n",
    "            'dropout': 0.2,\n",
    "            'beta': False\n",
    "        }\n",
    "    },\n",
    "    \n",
    "    'experiment': {\n",
    "        'n_epochs': 60,\n",
    "        'batch_size': 16,\n",
    "        'lr': 0.001,\n",
    "        'log_val_loss': False,\n",
    "        'base_dir': 'results',\n",
    "        'run_name': 'run1',\n",
    "        'kfold': {\n",
    "            'n_splits': 3,\n",
    "            'shuffle': True,\n",
    "            'random_state': 42\n",
    "        }\n",
    "    }\n",
    "}\n",
    "\n",
    "config = OmegaConf.create(config)"
   ]
  },
  {
   "cell_type": "code",
   "execution_count": 6,
   "metadata": {},
   "outputs": [
    {
     "data": {
      "text/plain": [
       "STPGSR(\n",
       "  (target_edge_initializer): TargetEdgeInitializer(\n",
       "    (residual_proj): Linear(in_features=160, out_features=268, bias=True)\n",
       "    (convs): ModuleList(\n",
       "      (0): TransformerConv(160, 16, heads=4)\n",
       "      (1): TransformerConv(64, 67, heads=4)\n",
       "    )\n",
       "    (bns): ModuleList(\n",
       "      (0): GraphNorm(160)\n",
       "      (1): GraphNorm(64)\n",
       "    )\n",
       "  )\n",
       "  (dual_learner): DualGraphLearner(\n",
       "    (conv1): TransformerConv(1, 1, heads=1)\n",
       "    (bn1): GraphNorm(1)\n",
       "    (out_proj): Linear(in_features=1, out_features=1, bias=True)\n",
       "  )\n",
       ")"
      ]
     },
     "execution_count": 6,
     "metadata": {},
     "output_type": "execute_result"
    }
   ],
   "source": [
    "# Load the test data and the model, and evaluate the model on the test data.\n",
    "source_data, target_data = load_dataset(config)\n",
    "MODEL_FILE_NAME = \"stp-gsr/results/stp_gsr_residual_2layers_preactivation_no_graph_conv_whole_data/custom/run1/fold_1/model.pth\"\n",
    "\n",
    "model = STPGSR(config)\n",
    "model.load_state_dict(torch.load(MODEL_FILE_NAME))\n",
    "model.eval()"
   ]
  },
  {
   "cell_type": "code",
   "execution_count": 10,
   "metadata": {},
   "outputs": [
    {
     "name": "stdout",
     "output_type": "stream",
     "text": [
      "(112, 268, 268)\n"
     ]
    }
   ],
   "source": [
    "# Change test data to torch tensor\n",
    "n_target_nodes = config.dataset.n_target_nodes  # n_t\n",
    "device = torch.device('cuda' if torch.cuda.is_available() else 'cpu')\n",
    "eval_output = []\n",
    "model = model.to(device)\n",
    "with torch.no_grad():\n",
    "    for source, target in zip(source_data, target_data):\n",
    "        source_g = source['pyg'].to(device)  \n",
    "        target_m = target['mat'].to(device)    # (n_t, n_t)\n",
    "        \n",
    "        model_pred, model_target = model(source_g, target_m) \n",
    "\n",
    "        pred_m = revert_dual(model_pred, n_target_nodes)    # (n_t, n_t)\n",
    "        pred_m = pred_m.cpu().numpy()\n",
    "\n",
    "        pred_arr = MatrixVectorizer.vectorize(pred_m)\n",
    "        eval_output.append(pred_arr)\n",
    "\n",
    "\n",
    "y_pred = np.array(eval_output)\n",
    "\n",
    "print(y_pred.shape)"
   ]
  },
  {
   "cell_type": "code",
   "execution_count": 11,
   "metadata": {},
   "outputs": [
    {
     "name": "stdout",
     "output_type": "stream",
     "text": [
      "(8044288,)\n"
     ]
    }
   ],
   "source": [
    "# flatten\n",
    "y_pred = y_pred.flatten()\n",
    "print(y_pred.shape)"
   ]
  },
  {
   "cell_type": "code",
   "execution_count": 12,
   "metadata": {},
   "outputs": [
    {
     "name": "stdout",
     "output_type": "stream",
     "text": [
      "Prediction saved to prediction.csv\n"
     ]
    }
   ],
   "source": [
    "# Convert tensor to csv\n",
    "df = pd.DataFrame({\n",
    "    'ID': np.arange(1, len(y_pred)+1),\n",
    "    'Predicted': y_pred\n",
    "})\n",
    "\n",
    "df.to_csv('prediction.csv', index=False)\n",
    "print('Prediction saved to prediction.csv')"
   ]
  },
  {
   "cell_type": "code",
   "execution_count": null,
   "metadata": {},
   "outputs": [],
   "source": []
  }
 ],
 "metadata": {
  "kernelspec": {
   "display_name": ".venv",
   "language": "python",
   "name": "python3"
  },
  "language_info": {
   "codemirror_mode": {
    "name": "ipython",
    "version": 3
   },
   "file_extension": ".py",
   "mimetype": "text/x-python",
   "name": "python",
   "nbconvert_exporter": "python",
   "pygments_lexer": "ipython3",
   "version": "3.12.3"
  }
 },
 "nbformat": 4,
 "nbformat_minor": 2
}
