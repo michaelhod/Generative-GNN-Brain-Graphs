{
 "cells": [
  {
   "cell_type": "code",
   "execution_count": 3,
   "metadata": {},
   "outputs": [],
   "source": [
    "import pandas as pd\n",
    "import numpy as np"
   ]
  },
  {
   "cell_type": "code",
   "execution_count": 4,
   "metadata": {},
   "outputs": [],
   "source": [
    "mae = 0.26494682\n",
    "pcc = 0.024567417940709116\n",
    "js_dis = 0.5566217519672648\n",
    "avg_mae_bc = 0.021026783331318875\n",
    "avg_mae_ec =  0.01937690172737485\n",
    "avg_mae_pc =0.0008654857606677065\n",
    "data = {\n",
    "        \"MAE\": mae,\n",
    "        \"PCC\": pcc,\n",
    "        \"JS_Distance\": js_dis,\n",
    "        \"MAE_BC\": avg_mae_bc,\n",
    "        \"MAE_EC\": avg_mae_ec,\n",
    "        \"MAE_PC\": avg_mae_pc\n",
    "    }"
   ]
  },
  {
   "cell_type": "code",
   "execution_count": 5,
   "metadata": {},
   "outputs": [],
   "source": [
    "df = pd.DataFrame(data, index=[0])"
   ]
  },
  {
   "cell_type": "code",
   "execution_count": 6,
   "metadata": {},
   "outputs": [
    {
     "data": {
      "text/html": [
       "<div>\n",
       "<style scoped>\n",
       "    .dataframe tbody tr th:only-of-type {\n",
       "        vertical-align: middle;\n",
       "    }\n",
       "\n",
       "    .dataframe tbody tr th {\n",
       "        vertical-align: top;\n",
       "    }\n",
       "\n",
       "    .dataframe thead th {\n",
       "        text-align: right;\n",
       "    }\n",
       "</style>\n",
       "<table border=\"1\" class=\"dataframe\">\n",
       "  <thead>\n",
       "    <tr style=\"text-align: right;\">\n",
       "      <th></th>\n",
       "      <th>MAE</th>\n",
       "      <th>PCC</th>\n",
       "      <th>JS_Distance</th>\n",
       "      <th>MAE_BC</th>\n",
       "      <th>MAE_EC</th>\n",
       "      <th>MAE_PC</th>\n",
       "    </tr>\n",
       "  </thead>\n",
       "  <tbody>\n",
       "    <tr>\n",
       "      <th>0</th>\n",
       "      <td>0.264947</td>\n",
       "      <td>0.024567</td>\n",
       "      <td>0.556622</td>\n",
       "      <td>0.021027</td>\n",
       "      <td>0.019377</td>\n",
       "      <td>0.000865</td>\n",
       "    </tr>\n",
       "  </tbody>\n",
       "</table>\n",
       "</div>"
      ],
      "text/plain": [
       "        MAE       PCC  JS_Distance    MAE_BC    MAE_EC    MAE_PC\n",
       "0  0.264947  0.024567     0.556622  0.021027  0.019377  0.000865"
      ]
     },
     "execution_count": 6,
     "metadata": {},
     "output_type": "execute_result"
    }
   ],
   "source": [
    "df"
   ]
  },
  {
   "cell_type": "code",
   "execution_count": 7,
   "metadata": {},
   "outputs": [],
   "source": [
    "df.to_csv(f\"../evaluation/soap/fold_1.csv\", index=False)"
   ]
  },
  {
   "cell_type": "code",
   "execution_count": null,
   "metadata": {},
   "outputs": [],
   "source": []
  }
 ],
 "metadata": {
  "kernelspec": {
   "display_name": ".dgl_venv",
   "language": "python",
   "name": "python3"
  },
  "language_info": {
   "codemirror_mode": {
    "name": "ipython",
    "version": 3
   },
   "file_extension": ".py",
   "mimetype": "text/x-python",
   "name": "python",
   "nbconvert_exporter": "python",
   "pygments_lexer": "ipython3",
   "version": "3.12.3"
  }
 },
 "nbformat": 4,
 "nbformat_minor": 2
}
